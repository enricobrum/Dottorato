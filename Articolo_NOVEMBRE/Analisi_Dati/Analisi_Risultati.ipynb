{
 "cells": [
  {
   "cell_type": "markdown",
   "metadata": {},
   "source": [
    "# ANALISI DATI DI TEST\n",
    "\n",
    "#### Autore: Enrico Brunelli\n",
    "\n",
    "#### Data ultima modifica: 19/11/2024\n",
    "\n",
    "### Descrizione:\n",
    " I test effettuati sono stati condotti variando i nodi di rete che generano traffico. Tali nodi sono stati generati da lato client connettendo tre distinti moduli Quectel EVB connessi al PC MSI con Windows 11. In tal modo è stato possibile utilizzare la rete dei moduli contemporaneamente. Sono stati implementati tre client tramite il software iperf3. Lato server, sul PC Firecell che contiene il Core Network della rete 5G, sono stati configurati 3 server tramite iperf3 sono 3 distinte porte: 5201 6201 7201.\n",
    " Inoltre è stato analizzato l'andamento dei container tramite il comando *docket stats* durante la connessione di 6 distinti User Equipement rappresentati dai moduli Quectel. In tal contesto è stato anche analizzato e catturato il traffico sull'interfaccia *enp5s0* in modo da osservare l'andamento dei pacchetti durante la fase di registrazione sulla rete. \n"
   ]
  },
  {
   "cell_type": "code",
   "execution_count": 70,
   "metadata": {},
   "outputs": [],
   "source": [
    "# Librerie necessarie all'analisi dei dati e la relativa rappresentazione\n",
    "import pandas as pd \n",
    "import matplotlib.pyplot as plt\n",
    "import seaborn as sns\n",
    "import numpy as np\n",
    "from ntplib import NTPStats\n",
    "from matplotlib.ticker import FuncFormatter\n",
    "from matplotlib.ticker import MultipleLocator"
   ]
  },
  {
   "cell_type": "code",
   "execution_count": 71,
   "metadata": {},
   "outputs": [
    {
     "name": "stdout",
     "output_type": "stream",
     "text": [
      "      Protocollo  Traffico  client_send_timestamp  client_recv_timestamp\n",
      "0            TCP         0           1.732030e+09           1.732030e+09\n",
      "1            TCP         0           1.732030e+09           1.732030e+09\n",
      "2            TCP         0           1.732030e+09           1.732030e+09\n",
      "3            TCP         0           1.732030e+09           1.732030e+09\n",
      "4            TCP         0           1.732030e+09           1.732030e+09\n",
      "...          ...       ...                    ...                    ...\n",
      "15966        TCP         0           1.732031e+09           1.732031e+09\n",
      "15967        TCP         0           1.732031e+09           1.732031e+09\n",
      "15968        TCP         0           1.732031e+09           1.732031e+09\n",
      "15969        TCP         0           1.732031e+09           1.732031e+09\n",
      "15970        TCP         0           1.732031e+09           1.732031e+09\n",
      "\n",
      "[15971 rows x 4 columns]\n",
      "      Tipo  server_send_timestamp  server_recv_timestamp\n",
      "0      TCP           1.732030e+09           1.732030e+09\n",
      "1      TCP           1.732030e+09           1.732030e+09\n",
      "2      TCP           1.732030e+09           1.732030e+09\n",
      "3      TCP           1.732030e+09           1.732030e+09\n",
      "4      TCP           1.732030e+09           1.732030e+09\n",
      "...    ...                    ...                    ...\n",
      "15966  TCP           1.732031e+09           1.732031e+09\n",
      "15967  TCP           1.732031e+09           1.732031e+09\n",
      "15968  TCP           1.732031e+09           1.732031e+09\n",
      "15969  TCP           1.732031e+09           1.732031e+09\n",
      "15970  TCP           1.732031e+09           1.732031e+09\n",
      "\n",
      "[15971 rows x 3 columns]\n"
     ]
    }
   ],
   "source": [
    "# Nomi dei file rispettivamente per Client e Server\n",
    "file_client=\"test_2_19_11_2024/istanti_temporali_2024-11-19.csv\"\n",
    "file_server=\"test_2_19_11_2024/server_istanti_temporali_2024-11-19.csv\"\n",
    "\n",
    "df1 = pd.read_csv(file_client) #legge il file del client\n",
    "df2 = pd.read_csv(file_server) #legge il file del server\n",
    "\n",
    "# Converto le colonne del file del Client che contengono l'ntp object\n",
    "print(df1)\n",
    "print(df2)"
   ]
  },
  {
   "cell_type": "code",
   "execution_count": 72,
   "metadata": {},
   "outputs": [
    {
     "name": "stdout",
     "output_type": "stream",
     "text": [
      "      Protocollo  Traffico  client_send_timestamp  client_recv_timestamp  \\\n",
      "0            TCP         0           1.732030e+09           1.732030e+09   \n",
      "1            TCP         0           1.732030e+09           1.732030e+09   \n",
      "2            TCP         0           1.732030e+09           1.732030e+09   \n",
      "3            TCP         0           1.732030e+09           1.732030e+09   \n",
      "4            TCP         0           1.732030e+09           1.732030e+09   \n",
      "...          ...       ...                    ...                    ...   \n",
      "15966        TCP         0           1.732031e+09           1.732031e+09   \n",
      "15967        TCP         0           1.732031e+09           1.732031e+09   \n",
      "15968        TCP         0           1.732031e+09           1.732031e+09   \n",
      "15969        TCP         0           1.732031e+09           1.732031e+09   \n",
      "15970        TCP         0           1.732031e+09           1.732031e+09   \n",
      "\n",
      "       server_send_timestamp  server_recv_timestamp  \n",
      "0               1.732030e+09           1.732030e+09  \n",
      "1               1.732030e+09           1.732030e+09  \n",
      "2               1.732030e+09           1.732030e+09  \n",
      "3               1.732030e+09           1.732030e+09  \n",
      "4               1.732030e+09           1.732030e+09  \n",
      "...                      ...                    ...  \n",
      "15966           1.732031e+09           1.732031e+09  \n",
      "15967           1.732031e+09           1.732031e+09  \n",
      "15968           1.732031e+09           1.732031e+09  \n",
      "15969           1.732031e+09           1.732031e+09  \n",
      "15970           1.732031e+09           1.732031e+09  \n",
      "\n",
      "[15971 rows x 6 columns]\n"
     ]
    }
   ],
   "source": [
    "# Unisco i risultati ottenuti lato client con quelli ottenuti lato server\n",
    "\n",
    "df1['server_send_timestamp']=df2['server_send_timestamp']\n",
    "df1['server_recv_timestamp']=df2['server_recv_timestamp']\n",
    "print(df1)"
   ]
  },
  {
   "cell_type": "code",
   "execution_count": 73,
   "metadata": {},
   "outputs": [
    {
     "name": "stdout",
     "output_type": "stream",
     "text": [
      "      Protocollo  Traffico  client_send_timestamp  client_recv_timestamp  \\\n",
      "0            TCP         0           1.732030e+09           1.732030e+09   \n",
      "1            TCP         0           1.732030e+09           1.732030e+09   \n",
      "2            TCP         0           1.732030e+09           1.732030e+09   \n",
      "3            TCP         0           1.732030e+09           1.732030e+09   \n",
      "4            TCP         0           1.732030e+09           1.732030e+09   \n",
      "...          ...       ...                    ...                    ...   \n",
      "15966        TCP         0           1.732031e+09           1.732031e+09   \n",
      "15967        TCP         0           1.732031e+09           1.732031e+09   \n",
      "15968        TCP         0           1.732031e+09           1.732031e+09   \n",
      "15969        TCP         0           1.732031e+09           1.732031e+09   \n",
      "15970        TCP         0           1.732031e+09           1.732031e+09   \n",
      "\n",
      "       server_send_timestamp  server_recv_timestamp       RTT  OTT_send  \\\n",
      "0               1.732030e+09           1.732030e+09  0.025112  0.011378   \n",
      "1               1.732030e+09           1.732030e+09  0.023854  0.010405   \n",
      "2               1.732030e+09           1.732030e+09  0.024973  0.010003   \n",
      "3               1.732030e+09           1.732030e+09  0.024909  0.010698   \n",
      "4               1.732030e+09           1.732030e+09  0.024862  0.009828   \n",
      "...                      ...                    ...       ...       ...   \n",
      "15966           1.732031e+09           1.732031e+09  0.024743  0.010287   \n",
      "15967           1.732031e+09           1.732031e+09  0.024717  0.010357   \n",
      "15968           1.732031e+09           1.732031e+09  0.024757  0.010020   \n",
      "15969           1.732031e+09           1.732031e+09  0.024901  0.010020   \n",
      "15970           1.732031e+09           1.732031e+09  0.024742  0.009638   \n",
      "\n",
      "       OTT_recv  \n",
      "0      0.013735  \n",
      "1      0.013449  \n",
      "2      0.014970  \n",
      "3      0.014212  \n",
      "4      0.015034  \n",
      "...         ...  \n",
      "15966  0.014456  \n",
      "15967  0.014360  \n",
      "15968  0.014737  \n",
      "15969  0.014881  \n",
      "15970  0.015104  \n",
      "\n",
      "[15971 rows x 9 columns]\n"
     ]
    }
   ],
   "source": [
    "# Calcolo RTT e OTT \n",
    "delay_richiesta_ntp_avg=0.005\n",
    "df1['RTT']=(df1['client_recv_timestamp']-df1['server_send_timestamp'])+(df1['server_recv_timestamp']-df1['client_send_timestamp'])-(delay_richiesta_ntp_avg*4)\n",
    "df1['OTT_send']=df1['server_recv_timestamp']-df1['client_send_timestamp']-(delay_richiesta_ntp_avg*2)\n",
    "df1['OTT_recv']=df1['client_recv_timestamp']-df1['server_send_timestamp']-(delay_richiesta_ntp_avg*2)\n",
    "print(df1)"
   ]
  },
  {
   "cell_type": "code",
   "execution_count": 75,
   "metadata": {},
   "outputs": [
    {
     "name": "stdout",
     "output_type": "stream",
     "text": [
      "              mean       var       std    median  count       min       max\n",
      "Traffico                                                                   \n",
      "0         0.025263  0.000026  0.005076  0.024877   3973  0.015088  0.079156\n",
      "1         0.025283  0.000009  0.003010  0.025076   3972  0.015168  0.073851\n",
      "2         0.025046  0.000005  0.002311  0.024981   3980  0.014761  0.077302\n",
      "3         0.024747  0.000007  0.002621  0.024740   3988  0.014981  0.076113\n",
      "              mean       var       std    median  count       min       max\n",
      "Traffico                                                                   \n",
      "0         0.010404  0.000006  0.002464  0.010213   3973  0.005192  0.060964\n",
      "1         0.010672  0.000005  0.002316  0.010538   3972  0.005194  0.060283\n",
      "2         0.010522  0.000002  0.001246  0.010514   3980  0.005904  0.053243\n",
      "3         0.010314  0.000003  0.001609  0.010238   3988  0.005874  0.052584\n",
      "              mean       var       std    median  count       min       max\n",
      "Traffico                                                                   \n",
      "0         0.014860  0.000021  0.004529  0.014616   3973  0.004809  0.069130\n",
      "1         0.014611  0.000005  0.002174  0.014556   3972  0.004675  0.057704\n",
      "2         0.014524  0.000004  0.002088  0.014516   3980  0.004724  0.066791\n",
      "3         0.014434  0.000005  0.002181  0.014431   3988  0.004485  0.065570\n"
     ]
    }
   ],
   "source": [
    "\n",
    "df1=df1[df1['RTT']<0.200]\n",
    "df1=df1[df1['RTT']>0]\n",
    "stats_rtt = df1.groupby(['Traffico'])['RTT'].agg(['mean', 'var','std','median','count','min','max'])\n",
    "stats_ott_send = df1.groupby(['Traffico'])['OTT_send'].agg(['mean', 'var','std','median','count','min','max'])\n",
    "stats_ott_recv = df1.groupby(['Traffico'])['OTT_recv'].agg(['mean', 'var','std','median','count','min','max'])\n",
    "print(stats_rtt)\n",
    "print(stats_ott_send)\n",
    "print(stats_ott_recv)\n"
   ]
  }
 ],
 "metadata": {
  "kernelspec": {
   "display_name": "Python 3",
   "language": "python",
   "name": "python3"
  },
  "language_info": {
   "codemirror_mode": {
    "name": "ipython",
    "version": 3
   },
   "file_extension": ".py",
   "mimetype": "text/x-python",
   "name": "python",
   "nbconvert_exporter": "python",
   "pygments_lexer": "ipython3",
   "version": "3.12.7"
  }
 },
 "nbformat": 4,
 "nbformat_minor": 2
}
