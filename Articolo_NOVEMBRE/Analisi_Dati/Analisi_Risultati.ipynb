{
 "cells": [
  {
   "cell_type": "markdown",
   "metadata": {},
   "source": [
    "# ANALISI DATI DI TEST\n",
    "\n",
    "#### Autore: Enrico Brunelli\n",
    "\n",
    "#### Data ultima modifica: 19/11/2024\n",
    "\n",
    "### Descrizione:\n",
    " I test effettuati sono stati condotti variando i nodi di rete che generano traffico. Tali nodi sono stati generati da lato client connettendo tre distinti moduli Quectel EVB connessi al PC MSI con Windows 11. In tal modo è stato possibile utilizzare la rete dei moduli contemporaneamente. Sono stati implementati tre client tramite il software iperf3. Lato server, sul PC Firecell che contiene il Core Network della rete 5G, sono stati configurati 3 server tramite iperf3 sono 3 distinte porte: 5201 6201 7201.\n",
    " Inoltre è stato analizzato l'andamento dei container tramite il comando *docket stats* durante la connessione di 6 distinti User Equipement rappresentati dai moduli Quectel. In tal contesto è stato anche analizzato e catturato il traffico sull'interfaccia *enp5s0* in modo da osservare l'andamento dei pacchetti durante la fase di registrazione sulla rete. \n"
   ]
  },
  {
   "cell_type": "code",
   "execution_count": 22,
   "metadata": {},
   "outputs": [],
   "source": [
    "# Librerie necessarie all'analisi dei dati e la relativa rappresentazione\n",
    "import pandas as pd \n",
    "import matplotlib.pyplot as plt\n",
    "import seaborn as sns\n",
    "import numpy as np\n",
    "from ntplib import NTPStats\n",
    "from matplotlib.ticker import FuncFormatter\n",
    "from matplotlib.ticker import MultipleLocator"
   ]
  },
  {
   "cell_type": "code",
   "execution_count": 23,
   "metadata": {},
   "outputs": [
    {
     "name": "stdout",
     "output_type": "stream",
     "text": [
      "      Protocollo  Traffico  client_send_timestamp  client_recv_timestamp\n",
      "0            TCP         0           1.732011e+09           1.732011e+09\n",
      "1            TCP         0           1.732011e+09           1.732011e+09\n",
      "2            TCP         0           1.732011e+09           1.732011e+09\n",
      "3            TCP         0           1.732011e+09           1.732011e+09\n",
      "4            TCP         0           1.732011e+09           1.732011e+09\n",
      "...          ...       ...                    ...                    ...\n",
      "15943        TCP         0           1.732013e+09           1.732013e+09\n",
      "15944        TCP         0           1.732013e+09           1.732013e+09\n",
      "15945        TCP         0           1.732013e+09           1.732013e+09\n",
      "15946        TCP         0           1.732013e+09           1.732013e+09\n",
      "15947        TCP         0           1.732013e+09           1.732013e+09\n",
      "\n",
      "[15948 rows x 4 columns]\n",
      "      Tipo  server_send_timestamp  server_recv_timestamp\n",
      "0      TCP           1.732011e+09           1.732011e+09\n",
      "1      TCP           1.732011e+09           1.732011e+09\n",
      "2      TCP           1.732011e+09           1.732011e+09\n",
      "3      TCP           1.732011e+09           1.732011e+09\n",
      "4      TCP           1.732011e+09           1.732011e+09\n",
      "...    ...                    ...                    ...\n",
      "15975  TCP           1.732013e+09           1.732013e+09\n",
      "15976  TCP           1.732013e+09           1.732013e+09\n",
      "15977  TCP           1.732013e+09           1.732013e+09\n",
      "15978  TCP           1.732013e+09           1.732013e+09\n",
      "15979  TCP           1.732013e+09           1.732013e+09\n",
      "\n",
      "[15980 rows x 3 columns]\n"
     ]
    }
   ],
   "source": [
    "# Nomi dei file rispettivamente per Client e Server\n",
    "file_client=\"test_19_11_2024/istanti_temporali_2024-11-19.csv\"\n",
    "file_server=\"test_19_11_2024/server_istanti_temporali_2024-11-19.csv\"\n",
    "\n",
    "df1 = pd.read_csv(file_client) #legge il file del client\n",
    "df2 = pd.read_csv(file_server) #legge il file del server\n",
    "\n",
    "# Converto le colonne del file del Client che contengono l'ntp object\n",
    "print(df1)\n",
    "print(df2)"
   ]
  },
  {
   "cell_type": "code",
   "execution_count": 24,
   "metadata": {},
   "outputs": [
    {
     "name": "stdout",
     "output_type": "stream",
     "text": [
      "      Protocollo  Traffico  client_send_timestamp  client_recv_timestamp  \\\n",
      "0            TCP         0           1.732011e+09           1.732011e+09   \n",
      "1            TCP         0           1.732011e+09           1.732011e+09   \n",
      "2            TCP         0           1.732011e+09           1.732011e+09   \n",
      "3            TCP         0           1.732011e+09           1.732011e+09   \n",
      "4            TCP         0           1.732011e+09           1.732011e+09   \n",
      "...          ...       ...                    ...                    ...   \n",
      "15943        TCP         0           1.732013e+09           1.732013e+09   \n",
      "15944        TCP         0           1.732013e+09           1.732013e+09   \n",
      "15945        TCP         0           1.732013e+09           1.732013e+09   \n",
      "15946        TCP         0           1.732013e+09           1.732013e+09   \n",
      "15947        TCP         0           1.732013e+09           1.732013e+09   \n",
      "\n",
      "       server_send_timestamp  server_recv_timestamp  \n",
      "0               1.732011e+09           1.732011e+09  \n",
      "1               1.732011e+09           1.732011e+09  \n",
      "2               1.732011e+09           1.732011e+09  \n",
      "3               1.732011e+09           1.732011e+09  \n",
      "4               1.732011e+09           1.732011e+09  \n",
      "...                      ...                    ...  \n",
      "15943           1.732013e+09           1.732013e+09  \n",
      "15944           1.732013e+09           1.732013e+09  \n",
      "15945           1.732013e+09           1.732013e+09  \n",
      "15946           1.732013e+09           1.732013e+09  \n",
      "15947           1.732013e+09           1.732013e+09  \n",
      "\n",
      "[15948 rows x 6 columns]\n"
     ]
    }
   ],
   "source": [
    "# Unisco i risultati ottenuti lato client con quelli ottenuti lato server\n",
    "\n",
    "df1['server_send_timestamp']=df2['server_send_timestamp']\n",
    "df1['server_recv_timestamp']=df2['server_recv_timestamp']\n",
    "print(df1)"
   ]
  },
  {
   "cell_type": "code",
   "execution_count": 25,
   "metadata": {},
   "outputs": [
    {
     "name": "stdout",
     "output_type": "stream",
     "text": [
      "      Protocollo  Traffico  client_send_timestamp  client_recv_timestamp  \\\n",
      "0            TCP         0           1.732011e+09           1.732011e+09   \n",
      "1            TCP         0           1.732011e+09           1.732011e+09   \n",
      "2            TCP         0           1.732011e+09           1.732011e+09   \n",
      "3            TCP         0           1.732011e+09           1.732011e+09   \n",
      "4            TCP         0           1.732011e+09           1.732011e+09   \n",
      "...          ...       ...                    ...                    ...   \n",
      "15943        TCP         0           1.732013e+09           1.732013e+09   \n",
      "15944        TCP         0           1.732013e+09           1.732013e+09   \n",
      "15945        TCP         0           1.732013e+09           1.732013e+09   \n",
      "15946        TCP         0           1.732013e+09           1.732013e+09   \n",
      "15947        TCP         0           1.732013e+09           1.732013e+09   \n",
      "\n",
      "       server_send_timestamp  server_recv_timestamp       RTT  OTT_send  \\\n",
      "0               1.732011e+09           1.732011e+09  0.045445  0.021297   \n",
      "1               1.732011e+09           1.732011e+09  0.036185  0.019835   \n",
      "2               1.732011e+09           1.732011e+09  0.035973  0.019545   \n",
      "3               1.732011e+09           1.732011e+09  0.044122  0.019964   \n",
      "4               1.732011e+09           1.732011e+09  0.044395  0.019703   \n",
      "...                      ...                    ...       ...       ...   \n",
      "15943           1.732013e+09           1.732013e+09  0.035287 -2.159883   \n",
      "15944           1.732013e+09           1.732013e+09  0.044744 -2.149269   \n",
      "15945           1.732013e+09           1.732013e+09  0.044896 -2.149763   \n",
      "15946           1.732013e+09           1.732013e+09  0.044642 -2.149232   \n",
      "15947           1.732013e+09           1.732013e+09  0.044490 -2.150055   \n",
      "\n",
      "       OTT_recv  \n",
      "0      0.024148  \n",
      "1      0.016351  \n",
      "2      0.016428  \n",
      "3      0.024158  \n",
      "4      0.024692  \n",
      "...         ...  \n",
      "15943  2.195170  \n",
      "15944  2.194013  \n",
      "15945  2.194659  \n",
      "15946  2.193874  \n",
      "15947  2.194545  \n",
      "\n",
      "[15948 rows x 9 columns]\n"
     ]
    }
   ],
   "source": [
    "# Calcolo RTT e OTT \n",
    "df1['RTT']=(df1['client_recv_timestamp']-df1['server_send_timestamp'])+(df1['server_recv_timestamp']-df1['client_send_timestamp'])\n",
    "df1['OTT_send']=df1['server_recv_timestamp']-df1['client_send_timestamp']\n",
    "df1['OTT_recv']=df1['client_recv_timestamp']-df1['server_send_timestamp']\n",
    "print(df1)"
   ]
  },
  {
   "cell_type": "code",
   "execution_count": 29,
   "metadata": {},
   "outputs": [
    {
     "ename": "ValueError",
     "evalue": "Columns must be same length as key",
     "output_type": "error",
     "traceback": [
      "\u001b[1;31m---------------------------------------------------------------------------\u001b[0m",
      "\u001b[1;31mValueError\u001b[0m                                Traceback (most recent call last)",
      "\u001b[1;32m~\\AppData\\Local\\Temp\\ipykernel_12596\\2230498917.py\u001b[0m in \u001b[0;36m?\u001b[1;34m()\u001b[0m\n\u001b[1;32m----> 1\u001b[1;33m \u001b[0mdf1\u001b[0m\u001b[1;33m[\u001b[0m\u001b[1;34m'RTT'\u001b[0m\u001b[1;33m]\u001b[0m\u001b[1;33m=\u001b[0m\u001b[0mdf1\u001b[0m\u001b[1;33m[\u001b[0m\u001b[0mdf1\u001b[0m\u001b[1;33m[\u001b[0m\u001b[1;34m'RTT'\u001b[0m\u001b[1;33m]\u001b[0m\u001b[1;33m<\u001b[0m\u001b[1;36m0.100\u001b[0m\u001b[1;33m]\u001b[0m\u001b[1;33m\u001b[0m\u001b[1;33m\u001b[0m\u001b[0m\n\u001b[0m\u001b[0;32m      2\u001b[0m \u001b[0mdf1\u001b[0m\u001b[1;33m[\u001b[0m\u001b[1;34m'RTT'\u001b[0m\u001b[1;33m]\u001b[0m\u001b[1;33m=\u001b[0m\u001b[0mdf1\u001b[0m\u001b[1;33m[\u001b[0m\u001b[0mdf1\u001b[0m\u001b[1;33m[\u001b[0m\u001b[1;34m'RTT'\u001b[0m\u001b[1;33m]\u001b[0m\u001b[1;33m>\u001b[0m\u001b[1;36m0.010\u001b[0m\u001b[1;33m]\u001b[0m\u001b[1;33m\u001b[0m\u001b[1;33m\u001b[0m\u001b[0m\n\u001b[0;32m      3\u001b[0m \u001b[0mstats\u001b[0m \u001b[1;33m=\u001b[0m \u001b[0mdf1\u001b[0m\u001b[1;33m.\u001b[0m\u001b[0mgroupby\u001b[0m\u001b[1;33m(\u001b[0m\u001b[1;33m[\u001b[0m\u001b[1;34m'Traffico'\u001b[0m\u001b[1;33m]\u001b[0m\u001b[1;33m)\u001b[0m\u001b[1;33m[\u001b[0m\u001b[1;34m'RTT'\u001b[0m\u001b[1;33m]\u001b[0m\u001b[1;33m.\u001b[0m\u001b[0magg\u001b[0m\u001b[1;33m(\u001b[0m\u001b[1;33m[\u001b[0m\u001b[1;34m'mean'\u001b[0m\u001b[1;33m,\u001b[0m \u001b[1;34m'var'\u001b[0m\u001b[1;33m,\u001b[0m\u001b[1;34m'std'\u001b[0m\u001b[1;33m,\u001b[0m\u001b[1;34m'median'\u001b[0m\u001b[1;33m,\u001b[0m\u001b[1;34m'count'\u001b[0m\u001b[1;33m,\u001b[0m\u001b[1;34m'min'\u001b[0m\u001b[1;33m,\u001b[0m\u001b[1;34m'max'\u001b[0m\u001b[1;33m]\u001b[0m\u001b[1;33m)\u001b[0m\u001b[1;33m\u001b[0m\u001b[1;33m\u001b[0m\u001b[0m\n\u001b[0;32m      4\u001b[0m \u001b[0mprint\u001b[0m\u001b[1;33m(\u001b[0m\u001b[0mstats\u001b[0m\u001b[1;33m.\u001b[0m\u001b[0mround\u001b[0m\u001b[1;33m(\u001b[0m\u001b[1;36m2\u001b[0m\u001b[1;33m)\u001b[0m\u001b[1;33m)\u001b[0m\u001b[1;33m\u001b[0m\u001b[1;33m\u001b[0m\u001b[0m\n",
      "\u001b[1;32m~\\AppData\\Local\\Packages\\PythonSoftwareFoundation.Python.3.12_qbz5n2kfra8p0\\LocalCache\\local-packages\\Python312\\site-packages\\pandas\\core\\frame.py\u001b[0m in \u001b[0;36m?\u001b[1;34m(self, key, value)\u001b[0m\n\u001b[0;32m   4297\u001b[0m             \u001b[0mself\u001b[0m\u001b[1;33m.\u001b[0m\u001b[0m_setitem_frame\u001b[0m\u001b[1;33m(\u001b[0m\u001b[0mkey\u001b[0m\u001b[1;33m,\u001b[0m \u001b[0mvalue\u001b[0m\u001b[1;33m)\u001b[0m\u001b[1;33m\u001b[0m\u001b[1;33m\u001b[0m\u001b[0m\n\u001b[0;32m   4298\u001b[0m         \u001b[1;32melif\u001b[0m \u001b[0misinstance\u001b[0m\u001b[1;33m(\u001b[0m\u001b[0mkey\u001b[0m\u001b[1;33m,\u001b[0m \u001b[1;33m(\u001b[0m\u001b[0mSeries\u001b[0m\u001b[1;33m,\u001b[0m \u001b[0mnp\u001b[0m\u001b[1;33m.\u001b[0m\u001b[0mndarray\u001b[0m\u001b[1;33m,\u001b[0m \u001b[0mlist\u001b[0m\u001b[1;33m,\u001b[0m \u001b[0mIndex\u001b[0m\u001b[1;33m)\u001b[0m\u001b[1;33m)\u001b[0m\u001b[1;33m:\u001b[0m\u001b[1;33m\u001b[0m\u001b[1;33m\u001b[0m\u001b[0m\n\u001b[0;32m   4299\u001b[0m             \u001b[0mself\u001b[0m\u001b[1;33m.\u001b[0m\u001b[0m_setitem_array\u001b[0m\u001b[1;33m(\u001b[0m\u001b[0mkey\u001b[0m\u001b[1;33m,\u001b[0m \u001b[0mvalue\u001b[0m\u001b[1;33m)\u001b[0m\u001b[1;33m\u001b[0m\u001b[1;33m\u001b[0m\u001b[0m\n\u001b[0;32m   4300\u001b[0m         \u001b[1;32melif\u001b[0m \u001b[0misinstance\u001b[0m\u001b[1;33m(\u001b[0m\u001b[0mvalue\u001b[0m\u001b[1;33m,\u001b[0m \u001b[0mDataFrame\u001b[0m\u001b[1;33m)\u001b[0m\u001b[1;33m:\u001b[0m\u001b[1;33m\u001b[0m\u001b[1;33m\u001b[0m\u001b[0m\n\u001b[1;32m-> 4301\u001b[1;33m             \u001b[0mself\u001b[0m\u001b[1;33m.\u001b[0m\u001b[0m_set_item_frame_value\u001b[0m\u001b[1;33m(\u001b[0m\u001b[0mkey\u001b[0m\u001b[1;33m,\u001b[0m \u001b[0mvalue\u001b[0m\u001b[1;33m)\u001b[0m\u001b[1;33m\u001b[0m\u001b[1;33m\u001b[0m\u001b[0m\n\u001b[0m\u001b[0;32m   4302\u001b[0m         elif (\n\u001b[0;32m   4303\u001b[0m             \u001b[0mis_list_like\u001b[0m\u001b[1;33m(\u001b[0m\u001b[0mvalue\u001b[0m\u001b[1;33m)\u001b[0m\u001b[1;33m\u001b[0m\u001b[1;33m\u001b[0m\u001b[0m\n\u001b[0;32m   4304\u001b[0m             \u001b[1;32mand\u001b[0m \u001b[1;32mnot\u001b[0m \u001b[0mself\u001b[0m\u001b[1;33m.\u001b[0m\u001b[0mcolumns\u001b[0m\u001b[1;33m.\u001b[0m\u001b[0mis_unique\u001b[0m\u001b[1;33m\u001b[0m\u001b[1;33m\u001b[0m\u001b[0m\n",
      "\u001b[1;32m~\\AppData\\Local\\Packages\\PythonSoftwareFoundation.Python.3.12_qbz5n2kfra8p0\\LocalCache\\local-packages\\Python312\\site-packages\\pandas\\core\\frame.py\u001b[0m in \u001b[0;36m?\u001b[1;34m(self, key, value)\u001b[0m\n\u001b[0;32m   4425\u001b[0m             \u001b[0mloc\u001b[0m \u001b[1;33m=\u001b[0m \u001b[0mself\u001b[0m\u001b[1;33m.\u001b[0m\u001b[0mcolumns\u001b[0m\u001b[1;33m.\u001b[0m\u001b[0mget_loc\u001b[0m\u001b[1;33m(\u001b[0m\u001b[0mkey\u001b[0m\u001b[1;33m)\u001b[0m\u001b[1;33m\u001b[0m\u001b[1;33m\u001b[0m\u001b[0m\n\u001b[0;32m   4426\u001b[0m             \u001b[0mcols\u001b[0m \u001b[1;33m=\u001b[0m \u001b[0mself\u001b[0m\u001b[1;33m.\u001b[0m\u001b[0mcolumns\u001b[0m\u001b[1;33m[\u001b[0m\u001b[0mloc\u001b[0m\u001b[1;33m]\u001b[0m\u001b[1;33m\u001b[0m\u001b[1;33m\u001b[0m\u001b[0m\n\u001b[0;32m   4427\u001b[0m             \u001b[0mlen_cols\u001b[0m \u001b[1;33m=\u001b[0m \u001b[1;36m1\u001b[0m \u001b[1;32mif\u001b[0m \u001b[0mis_scalar\u001b[0m\u001b[1;33m(\u001b[0m\u001b[0mcols\u001b[0m\u001b[1;33m)\u001b[0m \u001b[1;32mor\u001b[0m \u001b[0misinstance\u001b[0m\u001b[1;33m(\u001b[0m\u001b[0mcols\u001b[0m\u001b[1;33m,\u001b[0m \u001b[0mtuple\u001b[0m\u001b[1;33m)\u001b[0m \u001b[1;32melse\u001b[0m \u001b[0mlen\u001b[0m\u001b[1;33m(\u001b[0m\u001b[0mcols\u001b[0m\u001b[1;33m)\u001b[0m\u001b[1;33m\u001b[0m\u001b[1;33m\u001b[0m\u001b[0m\n\u001b[0;32m   4428\u001b[0m             \u001b[1;32mif\u001b[0m \u001b[0mlen_cols\u001b[0m \u001b[1;33m!=\u001b[0m \u001b[0mlen\u001b[0m\u001b[1;33m(\u001b[0m\u001b[0mvalue\u001b[0m\u001b[1;33m.\u001b[0m\u001b[0mcolumns\u001b[0m\u001b[1;33m)\u001b[0m\u001b[1;33m:\u001b[0m\u001b[1;33m\u001b[0m\u001b[1;33m\u001b[0m\u001b[0m\n\u001b[1;32m-> 4429\u001b[1;33m                 \u001b[1;32mraise\u001b[0m \u001b[0mValueError\u001b[0m\u001b[1;33m(\u001b[0m\u001b[1;34m\"Columns must be same length as key\"\u001b[0m\u001b[1;33m)\u001b[0m\u001b[1;33m\u001b[0m\u001b[1;33m\u001b[0m\u001b[0m\n\u001b[0m\u001b[0;32m   4430\u001b[0m \u001b[1;33m\u001b[0m\u001b[0m\n\u001b[0;32m   4431\u001b[0m             \u001b[1;31m# align right-hand-side columns if self.columns\u001b[0m\u001b[1;33m\u001b[0m\u001b[1;33m\u001b[0m\u001b[0m\n\u001b[0;32m   4432\u001b[0m             \u001b[1;31m# is multi-index and self[key] is a sub-frame\u001b[0m\u001b[1;33m\u001b[0m\u001b[1;33m\u001b[0m\u001b[0m\n",
      "\u001b[1;31mValueError\u001b[0m: Columns must be same length as key"
     ]
    }
   ],
   "source": [
    "\n",
    "df1['RTT']=df1[df1['RTT']<0.100]\n",
    "df1['RTT']=df1[df1['RTT']>0.010]\n",
    "stats = df1.groupby(['Traffico'])['RTT'].agg(['mean', 'var','std','median','count','min','max'])\n",
    "print(stats.round(2))\n"
   ]
  }
 ],
 "metadata": {
  "kernelspec": {
   "display_name": "Python 3",
   "language": "python",
   "name": "python3"
  },
  "language_info": {
   "codemirror_mode": {
    "name": "ipython",
    "version": 3
   },
   "file_extension": ".py",
   "mimetype": "text/x-python",
   "name": "python",
   "nbconvert_exporter": "python",
   "pygments_lexer": "ipython3",
   "version": "3.12.7"
  }
 },
 "nbformat": 4,
 "nbformat_minor": 2
}
